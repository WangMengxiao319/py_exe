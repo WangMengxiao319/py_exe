{
 "cells": [
  {
   "cell_type": "markdown",
   "id": "01cfbae7",
   "metadata": {},
   "source": [
    "<h1>python 60 exercises</h1>"
   ]
  },
  {
   "cell_type": "markdown",
   "id": "17a00faf",
   "metadata": {},
   "source": [
    "<h2>01-Hello World</h2>"
   ]
  },
  {
   "cell_type": "code",
   "execution_count": 1,
   "id": "3e78b3b4",
   "metadata": {},
   "outputs": [
    {
     "name": "stdout",
     "output_type": "stream",
     "text": [
      "hello world!\n",
      "yes\n",
      "7\n"
     ]
    }
   ],
   "source": [
    "print('hello world!')\n",
    "if 3 > 0:\n",
    "    print('yes')\n",
    "x = 3;\n",
    "y = 4;\n",
    "print(x + y)"
   ]
  },
  {
   "cell_type": "markdown",
   "id": "5c9cf5ff",
   "metadata": {},
   "source": [
    "<h2>02-print</h2>"
   ]
  },
  {
   "cell_type": "code",
   "execution_count": 9,
   "id": "84f6c746",
   "metadata": {},
   "outputs": [
    {
     "name": "stdout",
     "output_type": "stream",
     "text": [
      "hello world!hello world!\n",
      "hello world\n",
      "helloworld\n",
      "hello**world\n",
      "##\n",
      "how are you?I am fine\n"
     ]
    }
   ],
   "source": [
    "print('hello world!'*2)\n",
    "print('hello','world')\n",
    "print('hello'+'world')\n",
    "print('hello','world',sep='**')\n",
    "print('#' * 2)\n",
    "print('how are you?',end='')\n",
    "print('I am fine')"
   ]
  },
  {
   "cell_type": "markdown",
   "id": "9cb6450e",
   "metadata": {},
   "source": [
    "<h2>03-基本运算</h2>"
   ]
  },
  {
   "cell_type": "markdown",
   "id": "8df67961",
   "metadata": {},
   "source": [
    "优先级是：算术运算符>比较运算符>逻辑运算符。最好使用括号，增加了代码的可读性。"
   ]
  },
  {
   "cell_type": "code",
   "execution_count": 14,
   "id": "4f2b0e7e",
   "metadata": {},
   "outputs": [
    {
     "name": "stdout",
     "output_type": "stream",
     "text": [
      "2\n",
      "2\n",
      "1\n",
      "125\n",
      "True\n",
      "False\n",
      "True\n",
      "True\n",
      "False\n"
     ]
    }
   ],
   "source": [
    "print(5 / 2)\n",
    "print(int(5 / 2))\n",
    "print(5 // 2)\n",
    "print(5 % 2)\n",
    "print(5 ** 3)\n",
    "print(5 > 3)\n",
    "print(5 < 3)\n",
    "print(20 > 10 > 5)\n",
    "print(20 > 10 and 10 > 5)\n",
    "print(not 20 > 10)\n"
   ]
  },
  {
   "cell_type": "markdown",
   "id": "852b7ab7",
   "metadata": {},
   "source": [
    "<h2>04-input</h2>"
   ]
  },
  {
   "cell_type": "code",
   "execution_count": 23,
   "id": "26fa8377",
   "metadata": {},
   "outputs": [
    {
     "name": "stdout",
     "output_type": "stream",
     "text": [
      "请输入数字：34\n",
      "34\n",
      "<class 'str'>\n",
      "3410\n",
      "44\n"
     ]
    }
   ],
   "source": [
    "number = input('请输入数字：')\n",
    "print(number)\n",
    "print(type(number))\n",
    "print(number+'10')\n",
    "print(int(number)+10)"
   ]
  },
  {
   "cell_type": "markdown",
   "id": "45d3d7aa",
   "metadata": {},
   "source": [
    "<h2>05-input&output</h2>"
   ]
  },
  {
   "cell_type": "code",
   "execution_count": null,
   "id": "4dda6204",
   "metadata": {},
   "outputs": [],
   "source": [
    "username = input('username:')\n",
    "print('welcome',username)\n"
   ]
  },
  {
   "cell_type": "markdown",
   "id": "8a7d38ba",
   "metadata": {},
   "source": [
    "<h2>06-字符串使用基础</h2>"
   ]
  },
  {
   "cell_type": "code",
   "execution_count": 27,
   "id": "538f7632",
   "metadata": {},
   "outputs": [
    {
     "data": {
      "text/plain": [
       "'tom said:\"hello world\"'"
      ]
     },
     "execution_count": 27,
     "metadata": {},
     "output_type": "execute_result"
    }
   ],
   "source": [
    "sentence = 'tom\\'s pet is a cat'\n",
    "sentence2 = \"tom's pet is a cat\"\n",
    "sentence3 = \"tom said:\\\"hello world!\\\"\"\n",
    "sentence4 = 'tom said:\"hello world\"'\n",
    "sentence4"
   ]
  },
  {
   "cell_type": "code",
   "execution_count": 29,
   "id": "fb1f4c0f",
   "metadata": {},
   "outputs": [
    {
     "name": "stdout",
     "output_type": "stream",
     "text": [
      "\n",
      "hello\n",
      "world\n",
      "abcd\n"
     ]
    }
   ],
   "source": [
    "words = '''\n",
    "hello\n",
    "world\n",
    "abcd'''\n",
    "print(words)"
   ]
  },
  {
   "cell_type": "code",
   "execution_count": 42,
   "id": "b39043c8",
   "metadata": {},
   "outputs": [
    {
     "data": {
      "text/plain": [
       "True"
      ]
     },
     "execution_count": 42,
     "metadata": {},
     "output_type": "execute_result"
    }
   ],
   "source": [
    "a = 'python'\n",
    "a[0]\n",
    "'python'[5]\n",
    "len(a)\n",
    "a[2:4]\n",
    "a[:3]\n",
    "a[::2] #步长值为2\n",
    "a[1::2]\n",
    "a[::-1] # 实现倒序\n",
    "'th'in a"
   ]
  },
  {
   "cell_type": "markdown",
   "id": "2d2183c5",
   "metadata": {},
   "source": [
    "<h2>07-列表基础</h2>"
   ]
  },
  {
   "cell_type": "code",
   "execution_count": 53,
   "id": "fcf5128d",
   "metadata": {},
   "outputs": [
    {
     "data": {
      "text/plain": [
       "[10, 20, 30, 'bob', 'alice', 100, 200]"
      ]
     },
     "execution_count": 53,
     "metadata": {},
     "output_type": "execute_result"
    }
   ],
   "source": [
    "alist = [10, 20, 30, 'bob', 'alice', [1,2,3]]\n",
    "len(alist)\n",
    "alist[-1][-1]\n",
    "alist[-2][2]\n",
    "alist[-1] = 100\n",
    "alist\n",
    "alist.append(200)\n",
    "alist"
   ]
  },
  {
   "cell_type": "markdown",
   "id": "6fba198f",
   "metadata": {},
   "source": [
    "<h2>08-元组基础</h2>"
   ]
  },
  {
   "cell_type": "code",
   "execution_count": 59,
   "id": "10560add",
   "metadata": {},
   "outputs": [
    {
     "data": {
      "text/plain": [
       "(10, 20, 30, 'bob', [1, 2, 3], 100)"
      ]
     },
     "execution_count": 59,
     "metadata": {},
     "output_type": "execute_result"
    }
   ],
   "source": [
    "atuple = (10, 20, 30, 'bob', [1,2,3])\n",
    "atuple[2]\n",
    "l = list(atuple)\n",
    "l.append(100)\n",
    "atuple = tuple(l)\n",
    "atuple"
   ]
  },
  {
   "cell_type": "markdown",
   "id": "77403725",
   "metadata": {},
   "source": [
    "<h2>09-字典基础</h2>"
   ]
  },
  {
   "cell_type": "code",
   "execution_count": 68,
   "id": "2f3c5e42",
   "metadata": {},
   "outputs": [
    {
     "data": {
      "text/plain": [
       "True"
      ]
     },
     "execution_count": 68,
     "metadata": {},
     "output_type": "execute_result"
    }
   ],
   "source": [
    "adict = {'name':'bob','age':23}\n",
    "len(adict) #2\n",
    "'bob' in adict\n",
    "'name' in adict\n",
    "adict['email'] = '123@edu.cn'\n",
    "adict['name'] = 'mancy'\n",
    "adict\n",
    "'mancy' in adict['name']"
   ]
  },
  {
   "cell_type": "markdown",
   "id": "2d3d6805",
   "metadata": {},
   "source": [
    "<h2>10-基本判断</h2>"
   ]
  },
  {
   "cell_type": "code",
   "execution_count": 73,
   "id": "d03eff70",
   "metadata": {},
   "outputs": [
    {
     "name": "stdout",
     "output_type": "stream",
     "text": [
      "ok\n",
      "not zero\n"
     ]
    }
   ],
   "source": [
    "if 10 in [10,20,30]:\n",
    "    print('ok')\n",
    "if [1,2]:\n",
    "    print('not zero')\n",
    "if -0.0:\n",
    "    print('-0.0') # 任何值为0的数字都是False\n",
    "if '':\n",
    "    print('kong') # 空对象都是false"
   ]
  },
  {
   "cell_type": "markdown",
   "id": "de808d0e",
   "metadata": {},
   "source": [
    "<h2>11-条件表达式、三元运算符</h2>"
   ]
  },
  {
   "cell_type": "code",
   "execution_count": 76,
   "id": "ddad7792",
   "metadata": {},
   "outputs": [
    {
     "name": "stdout",
     "output_type": "stream",
     "text": [
      "10\n"
     ]
    }
   ],
   "source": [
    "a = 10\n",
    "b = 20\n",
    "if a < b:\n",
    "    smaller = a\n",
    "else: #这个缩进注意下\n",
    "        smaller = b\n",
    "print(smaller)"
   ]
  },
  {
   "cell_type": "code",
   "execution_count": 78,
   "id": "578ccc83",
   "metadata": {},
   "outputs": [
    {
     "data": {
      "text/plain": [
       "10"
      ]
     },
     "execution_count": 78,
     "metadata": {},
     "output_type": "execute_result"
    }
   ],
   "source": [
    "s = a if a < b else b\n",
    "s"
   ]
  },
  {
   "cell_type": "markdown",
   "id": "f913df9b",
   "metadata": {},
   "source": [
    "<h2>12-判断练习：用户名和密码是否正确</h2>"
   ]
  },
  {
   "cell_type": "code",
   "execution_count": 79,
   "id": "52c05999",
   "metadata": {},
   "outputs": [
    {
     "name": "stdout",
     "output_type": "stream",
     "text": [
      "username:bob\n",
      "password:········\n",
      "login successful\n"
     ]
    }
   ],
   "source": [
    "import getpass\n",
    "\n",
    "username = input('username:')\n",
    "password = getpass.getpass('password:')\n",
    "\n",
    "if username == 'bob' and password == '123456':\n",
    "    print('login successful')\n",
    "else:\n",
    "    print('incorrect')"
   ]
  },
  {
   "cell_type": "markdown",
   "id": "798ef77f",
   "metadata": {},
   "source": [
    "<h2>13-猜数：基础实现</h2>"
   ]
  },
  {
   "cell_type": "code",
   "execution_count": 81,
   "id": "265cafdd",
   "metadata": {},
   "outputs": [
    {
     "name": "stdout",
     "output_type": "stream",
     "text": [
      "guess a number:213\n",
      "bigger\n"
     ]
    }
   ],
   "source": [
    "import random\n",
    " \n",
    "num = random.randint(1,10)\n",
    "answer = int(input('guess a number:'))\n",
    "if answer > num:\n",
    "    print('bigger')\n",
    "elif answer < num:  #注意是else if\n",
    "    print('smaller')\n",
    "else:\n",
    "    print('right')"
   ]
  },
  {
   "cell_type": "markdown",
   "id": "5c660e53",
   "metadata": {},
   "source": [
    "<h2> 14-成绩分类 </h2>"
   ]
  },
  {
   "cell_type": "code",
   "execution_count": 83,
   "id": "a0748621",
   "metadata": {},
   "outputs": [
    {
     "name": "stdout",
     "output_type": "stream",
     "text": [
      "score:45\n",
      "你要努力了\n"
     ]
    }
   ],
   "source": [
    "score = int(input('score:'))\n",
    "if score >= 90:\n",
    "    print('优秀')\n",
    "elif score >= 80:\n",
    "     print('好')\n",
    "elif score >= 70:\n",
    "     print('良')\n",
    "elif score >= 60:\n",
    "     print('及格')\n",
    "else:\n",
    "     print('你要努力了')\n"
   ]
  },
  {
   "cell_type": "code",
   "execution_count": 84,
   "id": "fc1c464d",
   "metadata": {},
   "outputs": [
    {
     "name": "stdout",
     "output_type": "stream",
     "text": [
      "分数: 98\n",
      "优秀\n"
     ]
    }
   ],
   "source": [
    "score = int(input('分数: '))\n",
    "\n",
    "if score >= 60 and score < 70:\n",
    "    print('及格')\n",
    "elif 70 <= score < 80:\n",
    "    print('良')\n",
    "elif 80 <= score < 90:\n",
    "    print('好')\n",
    "elif score >= 90:\n",
    "    print('优秀')\n",
    "else:\n",
    "    print('你要努力了')"
   ]
  },
  {
   "cell_type": "markdown",
   "id": "3aeb6147",
   "metadata": {},
   "source": [
    "<h2>16-石头剪刀布</h2>"
   ]
  },
  {
   "cell_type": "code",
   "execution_count": 88,
   "id": "190b815a",
   "metadata": {},
   "outputs": [
    {
     "name": "stdout",
     "output_type": "stream",
     "text": [
      "please guess:scissors\n",
      "your choice: scissors, computer's choice: paper\n",
      "you win!!\n"
     ]
    }
   ],
   "source": [
    "import random\n",
    "\n",
    "all_choices = ['rock','scissors','paper']\n",
    "computer = random.choice(all_choices)\n",
    "player = input('please guess:')\n",
    "print(\"your choice: %s, computer's choice: %s\"%(player,computer))\n",
    "\n",
    "if player =='rock':\n",
    "    if computer == player:\n",
    "        print('draw')\n",
    "    elif computer == 'scissors':\n",
    "        print('you win!!')\n",
    "    else:\n",
    "        print('you lose')\n",
    "elif player == 'scissors':\n",
    "    if computer == player:\n",
    "        print('draw')\n",
    "    elif computer == 'paper':\n",
    "        print('you win!!')\n",
    "    else:\n",
    "        print('you lose')\n",
    "else:\n",
    "    if computer == player:\n",
    "        print('draw')\n",
    "    elif computer == 'rock':\n",
    "        print('you win!!')\n",
    "    else:\n",
    "        print('you lose')"
   ]
  },
  {
   "cell_type": "markdown",
   "id": "335e0f61",
   "metadata": {},
   "source": [
    "改进版"
   ]
  },
  {
   "cell_type": "code",
   "execution_count": 102,
   "id": "4bb2b5cc",
   "metadata": {},
   "outputs": [
    {
     "name": "stdout",
     "output_type": "stream",
     "text": [
      "(0) 石头\n",
      "（1）剪刀\n",
      "（2）布\n",
      "please choose(0/1/2):\n",
      "2\n",
      "your choice: paper, computer's choice: rock\n",
      "\u001b[31;2mYou Win!\u001b[0m\n"
     ]
    }
   ],
   "source": [
    "import random\n",
    "\n",
    "all_choices = ['rock','scissors','paper']\n",
    "win_list = [['rock','scissors'],['scissors','paper'],['paper','rock']]\n",
    "prompt = \"\"\"(0) 石头\n",
    "（1）剪刀\n",
    "（2）布\n",
    "please choose(0/1/2):\n",
    "\"\"\"\n",
    "computer = random.choice(all_choices)\n",
    "ind = int(input(prompt))\n",
    "player = all_choices[ind]\n",
    "print(\"your choice: %s, computer's choice: %s\"%(player,computer))\n",
    "\n",
    "if player == computer:\n",
    "    print('\\033[32;1m平局\\033[0m')   #更改输出格式\n",
    "elif [player,computer] in win_list:\n",
    "    print('\\033[31;1mYou Win!\\033[0m')\n",
    "else:\n",
    "    print('\\033[30;1mYou lose!\\033[0m')"
   ]
  },
  {
   "cell_type": "markdown",
   "id": "621852ce",
   "metadata": {},
   "source": [
    "<h2>** 18-猜数，直到猜对 </h2>"
   ]
  },
  {
   "cell_type": "code",
   "execution_count": 1,
   "id": "f88e5de0",
   "metadata": {},
   "outputs": [
    {
     "name": "stdout",
     "output_type": "stream",
     "text": [
      "guess the number:12\n",
      "猜大了\n",
      "guess the number:10\n",
      "猜大了\n",
      "guess the number:8\n",
      "猜大了\n",
      "guess the number:1\n",
      "猜小了\n",
      "guess the number:5\n",
      "猜小了\n",
      "guess the number:7\n",
      "猜大了\n",
      "guess the number:6\n",
      "猜对了\n"
     ]
    }
   ],
   "source": [
    "import random\n",
    "num = random.randint(1,10)\n",
    "running = True\n",
    "while running:\n",
    "    answer = int(input('guess the number:'))\n",
    "    if answer > num:\n",
    "        print('猜大了')\n",
    "    elif answer < num:\n",
    "        print('猜小了')\n",
    "    else:\n",
    "        print('猜对了')\n",
    "        running = False"
   ]
  },
  {
   "cell_type": "markdown",
   "id": "383b2945",
   "metadata": {},
   "source": [
    "<h3> 5次机会 </h3>"
   ]
  },
  {
   "cell_type": "code",
   "execution_count": 5,
   "id": "d44ca065",
   "metadata": {},
   "outputs": [
    {
     "name": "stdout",
     "output_type": "stream",
     "text": [
      "please enter the number:3\n",
      "猜小了\n",
      "please enter the number:10\n",
      "猜大了\n",
      "please enter the number:9\n",
      "猜大了\n",
      "please enter the number:6\n",
      "猜对了\n",
      "the number is : 6\n"
     ]
    }
   ],
   "source": [
    "import random\n",
    "num = random.randint(1,10)\n",
    "counter = 0\n",
    "while counter<5:\n",
    "    answer = int(input('please enter the number:'))\n",
    "    if answer > num:\n",
    "        print('猜大了')\n",
    "    elif answer < num:\n",
    "        print('猜小了')\n",
    "    else:\n",
    "        print('猜对了')\n",
    "        break\n",
    "    counter +=1\n",
    "else:  # 原来while后面也可以接else\n",
    "    print('the number is :', num)"
   ]
  },
  {
   "cell_type": "markdown",
   "id": "320a6fc2",
   "metadata": {},
   "source": [
    "<h2> 20-while循环，累加至100 </h2>"
   ]
  },
  {
   "cell_type": "code",
   "execution_count": 10,
   "id": "83481732",
   "metadata": {},
   "outputs": [
    {
     "name": "stdout",
     "output_type": "stream",
     "text": [
      "5050\n"
     ]
    }
   ],
   "source": [
    "sum100 = 0\n",
    "counter = 1\n",
    "for counter in range(100):\n",
    "    sum100 += counter+1\n",
    "print(sum100)"
   ]
  },
  {
   "cell_type": "markdown",
   "id": "da3e5ab2",
   "metadata": {},
   "source": [
    "<h2> 21-while-break </h2>"
   ]
  },
  {
   "cell_type": "code",
   "execution_count": 13,
   "id": "7804eaa3",
   "metadata": {},
   "outputs": [
    {
     "name": "stdout",
     "output_type": "stream",
     "text": [
      "continue(y/n):y\n",
      "ruuning...\n",
      "continue(y/n):y\n",
      "ruuning...\n",
      "continue(y/n):n\n"
     ]
    }
   ],
   "source": [
    "while True:\n",
    "    yn = input('continue(y/n):')\n",
    "    if yn in ['n','N']:\n",
    "        break\n",
    "    print('ruuning...')"
   ]
  },
  {
   "cell_type": "markdown",
   "id": "b1b42c6d",
   "metadata": {},
   "source": [
    "<h2> 22-while-continue--计算100内偶数和 </h2>"
   ]
  },
  {
   "cell_type": "code",
   "execution_count": 2,
   "id": "1548dbd8",
   "metadata": {},
   "outputs": [
    {
     "name": "stdout",
     "output_type": "stream",
     "text": [
      "2450\n"
     ]
    }
   ],
   "source": [
    "sum100 = 0\n",
    "counter = 0\n",
    "while counter < 99:\n",
    "    counter += 1\n",
    "    if counter % 2 == 1:\n",
    "        continue  #continue是跳过本次循环剩余部分，回到循环条件处。\n",
    "    sum100 += counter\n",
    "\n",
    "print(sum100)"
   ]
  },
  {
   "cell_type": "markdown",
   "id": "90e7b31d",
   "metadata": {},
   "source": [
    "<h2> 23-for 循环遍历数据对象 </h2>"
   ]
  },
  {
   "cell_type": "code",
   "execution_count": 4,
   "id": "948bb364",
   "metadata": {},
   "outputs": [
    {
     "name": "stdout",
     "output_type": "stream",
     "text": [
      "h\n",
      "e\n",
      "l\n",
      "l\n",
      "o\n",
      "10\n",
      "20\n",
      "30\n",
      "bob\n",
      "tom\n",
      "alice\n",
      "name:john\n",
      "age:23\n"
     ]
    }
   ],
   "source": [
    "astr = 'hello'\n",
    "alist = [10,20,30]\n",
    "atuple = ('bob','tom','alice')\n",
    "adict = {'name':'john','age':23}\n",
    "\n",
    "for ch in astr:\n",
    "    print(ch)\n",
    "for i in alist:\n",
    "    print(i)\n",
    "for name in atuple:\n",
    "    print(name)\n",
    "for key in adict:\n",
    "    print('%s:%s'%(key,adict[key]))"
   ]
  },
  {
   "cell_type": "markdown",
   "id": "d00a9482",
   "metadata": {},
   "source": [
    "<h2> 24-range用法及数字累加</h2>"
   ]
  },
  {
   "cell_type": "code",
   "execution_count": 14,
   "id": "8c3d9753",
   "metadata": {},
   "outputs": [
    {
     "data": {
      "text/plain": [
       "array([2, 3])"
      ]
     },
     "execution_count": 14,
     "metadata": {},
     "output_type": "execute_result"
    }
   ],
   "source": [
    "a = range(1,10)\n",
    "b = a[1:3]\n",
    "import numpy\n",
    "b= numpy.array(b)\n",
    "b"
   ]
  },
  {
   "cell_type": "markdown",
   "id": "49b8fb56",
   "metadata": {},
   "source": [
    "<h2> 25-列表实现斐波那契数列 </h2>"
   ]
  },
  {
   "cell_type": "code",
   "execution_count": 16,
   "id": "28dfe81b",
   "metadata": {},
   "outputs": [
    {
     "name": "stdout",
     "output_type": "stream",
     "text": [
      "[0, 1, 1, 2, 3, 5, 8, 13, 21, 34]\n"
     ]
    }
   ],
   "source": [
    "fib = [0,1]\n",
    "for i in range(8):\n",
    "    fib.append(fib[-1] + fib[-2])\n",
    "print(fib)"
   ]
  },
  {
   "cell_type": "markdown",
   "id": "2b8611b9",
   "metadata": {},
   "source": [
    "<h2> 26-九九乘法表 </h2>"
   ]
  },
  {
   "cell_type": "code",
   "execution_count": 23,
   "id": "0bf9820c",
   "metadata": {},
   "outputs": [
    {
     "name": "stdout",
     "output_type": "stream",
     "text": [
      "1*1=1|\n",
      "1*2=2|2*2=4|\n",
      "1*3=3|2*3=6|3*3=9|\n",
      "1*4=4|2*4=8|3*4=12|4*4=16|\n",
      "1*5=5|2*5=10|3*5=15|4*5=20|5*5=25|\n",
      "1*6=6|2*6=12|3*6=18|4*6=24|5*6=30|6*6=36|\n",
      "1*7=7|2*7=14|3*7=21|4*7=28|5*7=35|6*7=42|7*7=49|\n",
      "1*8=8|2*8=16|3*8=24|4*8=32|5*8=40|6*8=48|7*8=56|8*8=64|\n",
      "1*9=9|2*9=18|3*9=27|4*9=36|5*9=45|6*9=54|7*9=63|8*9=72|9*9=81|\n"
     ]
    }
   ],
   "source": [
    "for i in range(1,10):\n",
    "    for j in range(1,i+1):\n",
    "        print('%s*%s=%s'%(j,i,i*j),end = '|')  #不要回车\n",
    "    print()"
   ]
  },
  {
   "cell_type": "markdown",
   "id": "63f23abe",
   "metadata": {},
   "source": [
    "<h2>***27-逐步实现列表解析 </h2>"
   ]
  },
  {
   "cell_type": "code",
   "execution_count": 24,
   "id": "c409d7b4",
   "metadata": {},
   "outputs": [
    {
     "data": {
      "text/plain": [
       "[15]"
      ]
     },
     "execution_count": 24,
     "metadata": {},
     "output_type": "execute_result"
    }
   ],
   "source": [
    "# 10+5的结果放到列表中\n",
    "[10 + 5]"
   ]
  },
  {
   "cell_type": "code",
   "execution_count": 26,
   "id": "74d84b97",
   "metadata": {},
   "outputs": [
    {
     "data": {
      "text/plain": [
       "[15, 15, 15, 15, 15, 15, 15, 15, 15, 15]"
      ]
     },
     "execution_count": 26,
     "metadata": {},
     "output_type": "execute_result"
    }
   ],
   "source": [
    "# 10+5这个表达式计算10次\n",
    "[10 + 5 for i in range(10)]"
   ]
  },
  {
   "cell_type": "code",
   "execution_count": 28,
   "id": "6ab859d8",
   "metadata": {},
   "outputs": [
    {
     "data": {
      "text/plain": [
       "[11, 12, 13, 14, 15, 16, 17, 18, 19, 20]"
      ]
     },
     "execution_count": 28,
     "metadata": {},
     "output_type": "execute_result"
    }
   ],
   "source": [
    "# 10+i的i来自于循环\n",
    "[10 +i for i in range(10)]\n",
    "[10 +i for i in range(1,11)]"
   ]
  },
  {
   "cell_type": "code",
   "execution_count": 30,
   "id": "2b249ee2",
   "metadata": {},
   "outputs": [
    {
     "data": {
      "text/plain": [
       "[11, 13, 15, 17, 19]"
      ]
     },
     "execution_count": 30,
     "metadata": {},
     "output_type": "execute_result"
    }
   ],
   "source": [
    "# 通过if过滤，满足if条件的才参与10+i的运算\n",
    "[10 + i for i in range(1,11) if i%2 ==1]\n",
    "[10 + i for i in range(1,11) if i%2]"
   ]
  },
  {
   "cell_type": "code",
   "execution_count": 31,
   "id": "e8a9f5db",
   "metadata": {},
   "outputs": [
    {
     "data": {
      "text/plain": [
       "['192.168.1.1',\n",
       " '192.168.1.2',\n",
       " '192.168.1.3',\n",
       " '192.168.1.4',\n",
       " '192.168.1.5',\n",
       " '192.168.1.6',\n",
       " '192.168.1.7',\n",
       " '192.168.1.8',\n",
       " '192.168.1.9',\n",
       " '192.168.1.10',\n",
       " '192.168.1.11',\n",
       " '192.168.1.12',\n",
       " '192.168.1.13',\n",
       " '192.168.1.14',\n",
       " '192.168.1.15',\n",
       " '192.168.1.16',\n",
       " '192.168.1.17',\n",
       " '192.168.1.18',\n",
       " '192.168.1.19',\n",
       " '192.168.1.20',\n",
       " '192.168.1.21',\n",
       " '192.168.1.22',\n",
       " '192.168.1.23',\n",
       " '192.168.1.24',\n",
       " '192.168.1.25',\n",
       " '192.168.1.26',\n",
       " '192.168.1.27',\n",
       " '192.168.1.28',\n",
       " '192.168.1.29',\n",
       " '192.168.1.30',\n",
       " '192.168.1.31',\n",
       " '192.168.1.32',\n",
       " '192.168.1.33',\n",
       " '192.168.1.34',\n",
       " '192.168.1.35',\n",
       " '192.168.1.36',\n",
       " '192.168.1.37',\n",
       " '192.168.1.38',\n",
       " '192.168.1.39',\n",
       " '192.168.1.40',\n",
       " '192.168.1.41',\n",
       " '192.168.1.42',\n",
       " '192.168.1.43',\n",
       " '192.168.1.44',\n",
       " '192.168.1.45',\n",
       " '192.168.1.46',\n",
       " '192.168.1.47',\n",
       " '192.168.1.48',\n",
       " '192.168.1.49',\n",
       " '192.168.1.50',\n",
       " '192.168.1.51',\n",
       " '192.168.1.52',\n",
       " '192.168.1.53',\n",
       " '192.168.1.54',\n",
       " '192.168.1.55',\n",
       " '192.168.1.56',\n",
       " '192.168.1.57',\n",
       " '192.168.1.58',\n",
       " '192.168.1.59',\n",
       " '192.168.1.60',\n",
       " '192.168.1.61',\n",
       " '192.168.1.62',\n",
       " '192.168.1.63',\n",
       " '192.168.1.64',\n",
       " '192.168.1.65',\n",
       " '192.168.1.66',\n",
       " '192.168.1.67',\n",
       " '192.168.1.68',\n",
       " '192.168.1.69',\n",
       " '192.168.1.70',\n",
       " '192.168.1.71',\n",
       " '192.168.1.72',\n",
       " '192.168.1.73',\n",
       " '192.168.1.74',\n",
       " '192.168.1.75',\n",
       " '192.168.1.76',\n",
       " '192.168.1.77',\n",
       " '192.168.1.78',\n",
       " '192.168.1.79',\n",
       " '192.168.1.80',\n",
       " '192.168.1.81',\n",
       " '192.168.1.82',\n",
       " '192.168.1.83',\n",
       " '192.168.1.84',\n",
       " '192.168.1.85',\n",
       " '192.168.1.86',\n",
       " '192.168.1.87',\n",
       " '192.168.1.88',\n",
       " '192.168.1.89',\n",
       " '192.168.1.90',\n",
       " '192.168.1.91',\n",
       " '192.168.1.92',\n",
       " '192.168.1.93',\n",
       " '192.168.1.94',\n",
       " '192.168.1.95',\n",
       " '192.168.1.96',\n",
       " '192.168.1.97',\n",
       " '192.168.1.98',\n",
       " '192.168.1.99',\n",
       " '192.168.1.100',\n",
       " '192.168.1.101',\n",
       " '192.168.1.102',\n",
       " '192.168.1.103',\n",
       " '192.168.1.104',\n",
       " '192.168.1.105',\n",
       " '192.168.1.106',\n",
       " '192.168.1.107',\n",
       " '192.168.1.108',\n",
       " '192.168.1.109',\n",
       " '192.168.1.110',\n",
       " '192.168.1.111',\n",
       " '192.168.1.112',\n",
       " '192.168.1.113',\n",
       " '192.168.1.114',\n",
       " '192.168.1.115',\n",
       " '192.168.1.116',\n",
       " '192.168.1.117',\n",
       " '192.168.1.118',\n",
       " '192.168.1.119',\n",
       " '192.168.1.120',\n",
       " '192.168.1.121',\n",
       " '192.168.1.122',\n",
       " '192.168.1.123',\n",
       " '192.168.1.124',\n",
       " '192.168.1.125',\n",
       " '192.168.1.126',\n",
       " '192.168.1.127',\n",
       " '192.168.1.128',\n",
       " '192.168.1.129',\n",
       " '192.168.1.130',\n",
       " '192.168.1.131',\n",
       " '192.168.1.132',\n",
       " '192.168.1.133',\n",
       " '192.168.1.134',\n",
       " '192.168.1.135',\n",
       " '192.168.1.136',\n",
       " '192.168.1.137',\n",
       " '192.168.1.138',\n",
       " '192.168.1.139',\n",
       " '192.168.1.140',\n",
       " '192.168.1.141',\n",
       " '192.168.1.142',\n",
       " '192.168.1.143',\n",
       " '192.168.1.144',\n",
       " '192.168.1.145',\n",
       " '192.168.1.146',\n",
       " '192.168.1.147',\n",
       " '192.168.1.148',\n",
       " '192.168.1.149',\n",
       " '192.168.1.150',\n",
       " '192.168.1.151',\n",
       " '192.168.1.152',\n",
       " '192.168.1.153',\n",
       " '192.168.1.154',\n",
       " '192.168.1.155',\n",
       " '192.168.1.156',\n",
       " '192.168.1.157',\n",
       " '192.168.1.158',\n",
       " '192.168.1.159',\n",
       " '192.168.1.160',\n",
       " '192.168.1.161',\n",
       " '192.168.1.162',\n",
       " '192.168.1.163',\n",
       " '192.168.1.164',\n",
       " '192.168.1.165',\n",
       " '192.168.1.166',\n",
       " '192.168.1.167',\n",
       " '192.168.1.168',\n",
       " '192.168.1.169',\n",
       " '192.168.1.170',\n",
       " '192.168.1.171',\n",
       " '192.168.1.172',\n",
       " '192.168.1.173',\n",
       " '192.168.1.174',\n",
       " '192.168.1.175',\n",
       " '192.168.1.176',\n",
       " '192.168.1.177',\n",
       " '192.168.1.178',\n",
       " '192.168.1.179',\n",
       " '192.168.1.180',\n",
       " '192.168.1.181',\n",
       " '192.168.1.182',\n",
       " '192.168.1.183',\n",
       " '192.168.1.184',\n",
       " '192.168.1.185',\n",
       " '192.168.1.186',\n",
       " '192.168.1.187',\n",
       " '192.168.1.188',\n",
       " '192.168.1.189',\n",
       " '192.168.1.190',\n",
       " '192.168.1.191',\n",
       " '192.168.1.192',\n",
       " '192.168.1.193',\n",
       " '192.168.1.194',\n",
       " '192.168.1.195',\n",
       " '192.168.1.196',\n",
       " '192.168.1.197',\n",
       " '192.168.1.198',\n",
       " '192.168.1.199',\n",
       " '192.168.1.200',\n",
       " '192.168.1.201',\n",
       " '192.168.1.202',\n",
       " '192.168.1.203',\n",
       " '192.168.1.204',\n",
       " '192.168.1.205',\n",
       " '192.168.1.206',\n",
       " '192.168.1.207',\n",
       " '192.168.1.208',\n",
       " '192.168.1.209',\n",
       " '192.168.1.210',\n",
       " '192.168.1.211',\n",
       " '192.168.1.212',\n",
       " '192.168.1.213',\n",
       " '192.168.1.214',\n",
       " '192.168.1.215',\n",
       " '192.168.1.216',\n",
       " '192.168.1.217',\n",
       " '192.168.1.218',\n",
       " '192.168.1.219',\n",
       " '192.168.1.220',\n",
       " '192.168.1.221',\n",
       " '192.168.1.222',\n",
       " '192.168.1.223',\n",
       " '192.168.1.224',\n",
       " '192.168.1.225',\n",
       " '192.168.1.226',\n",
       " '192.168.1.227',\n",
       " '192.168.1.228',\n",
       " '192.168.1.229',\n",
       " '192.168.1.230',\n",
       " '192.168.1.231',\n",
       " '192.168.1.232',\n",
       " '192.168.1.233',\n",
       " '192.168.1.234',\n",
       " '192.168.1.235',\n",
       " '192.168.1.236',\n",
       " '192.168.1.237',\n",
       " '192.168.1.238',\n",
       " '192.168.1.239',\n",
       " '192.168.1.240',\n",
       " '192.168.1.241',\n",
       " '192.168.1.242',\n",
       " '192.168.1.243',\n",
       " '192.168.1.244',\n",
       " '192.168.1.245',\n",
       " '192.168.1.246',\n",
       " '192.168.1.247',\n",
       " '192.168.1.248',\n",
       " '192.168.1.249',\n",
       " '192.168.1.250',\n",
       " '192.168.1.251',\n",
       " '192.168.1.252',\n",
       " '192.168.1.253',\n",
       " '192.168.1.254']"
      ]
     },
     "execution_count": 31,
     "metadata": {},
     "output_type": "execute_result"
    }
   ],
   "source": [
    "# 生成IP地址列表\n",
    "['192.168.1.%s' % i for i in range(1, 255)]  #最后到254"
   ]
  },
  {
   "cell_type": "markdown",
   "id": "6c065cc8",
   "metadata": {},
   "source": [
    "<h2> 28-三局两胜的石头剪刀布 </h2>"
   ]
  },
  {
   "cell_type": "code",
   "execution_count": 37,
   "id": "e6dde70a",
   "metadata": {},
   "outputs": [
    {
     "name": "stdout",
     "output_type": "stream",
     "text": [
      "(0) 石头\n",
      "(1) 剪刀\n",
      "(2) 布\n",
      "请选择(0/1/2): 0\n",
      "Your choice: 石头, Computer's choice: 布\n",
      "\u001b[31;1mYou LOSE!!!\u001b[0m\n",
      "(0) 石头\n",
      "(1) 剪刀\n",
      "(2) 布\n",
      "请选择(0/1/2): 2\n",
      "Your choice: 布, Computer's choice: 布\n",
      "\u001b[32;1m平局\u001b[0m\n",
      "(0) 石头\n",
      "(1) 剪刀\n",
      "(2) 布\n",
      "请选择(0/1/2): 1\n",
      "Your choice: 剪刀, Computer's choice: 剪刀\n",
      "\u001b[32;1m平局\u001b[0m\n",
      "(0) 石头\n",
      "(1) 剪刀\n",
      "(2) 布\n",
      "请选择(0/1/2): 2\n",
      "Your choice: 布, Computer's choice: 剪刀\n",
      "\u001b[31;1mYou LOSE!!!\u001b[0m\n",
      "c win！\n"
     ]
    }
   ],
   "source": [
    "\n",
    "import random\n",
    "all_choices = ['石头', '剪刀', '布']\n",
    "win_list = [['石头', '剪刀'], ['剪刀', '布'], ['布', '石头']]\n",
    "prompt = \"\"\"(0) 石头\n",
    "(1) 剪刀\n",
    "(2) 布\n",
    "请选择(0/1/2): \"\"\"\n",
    "cwin = 0\n",
    "pwin = 0\n",
    "while cwin<2 and pwin<2:\n",
    "    computer = random.choice(all_choices)\n",
    "    ind = int(input(prompt))\n",
    "    player = all_choices[ind]\n",
    "    print(\"Your choice: %s, Computer's choice: %s\" % (player, computer))\n",
    "\n",
    "    if player == computer:\n",
    "        print('\\033[32;1m平局\\033[0m')\n",
    "    elif [player,computer] in win_list:\n",
    "        pwin +=1\n",
    "        print('\\033[31;1mYou WIN!!!\\033[0m')\n",
    "    else:\n",
    "        cwin +=1\n",
    "        print('\\033[31;1mYou LOSE!!!\\033[0m')\n",
    "if cwin>pwin:\n",
    "    print('c win！')\n",
    "else:\n",
    "    print('p win!')"
   ]
  },
  {
   "cell_type": "markdown",
   "id": "a9765aad",
   "metadata": {},
   "source": [
    "<h2> 29-文件对象基础操作 </h2>"
   ]
  },
  {
   "cell_type": "markdown",
   "id": "0d7ab8d7",
   "metadata": {},
   "source": [
    "<h3> read&write <h3>"
   ]
  },
  {
   "cell_type": "code",
   "execution_count": 24,
   "id": "d87a7f50",
   "metadata": {
    "scrolled": true
   },
   "outputs": [
    {
     "name": "stdout",
     "output_type": "stream",
     "text": [
      "password\n",
      "hello\n",
      "mancy\n"
     ]
    }
   ],
   "source": [
    "f = open('tmp/passwd.txt')  # 默认以r的方式打开纯文本文件\n",
    "data = f.read()  # read()把所有内容读取出来\n",
    "print(data)"
   ]
  },
  {
   "cell_type": "code",
   "execution_count": 12,
   "id": "0fde2206",
   "metadata": {},
   "outputs": [
    {
     "name": "stdout",
     "output_type": "stream",
     "text": [
      "\n"
     ]
    }
   ],
   "source": [
    "data = f.read()  # 随着读写的进行，文件指针向后移动。\n",
    "print(data) # 因为第一个f.read()已经把文件指针移动到结尾了，所以再读就没有数据了"
   ]
  },
  {
   "cell_type": "code",
   "execution_count": 17,
   "id": "024b2efb",
   "metadata": {},
   "outputs": [
    {
     "data": {
      "text/plain": [
       "'word'"
      ]
     },
     "execution_count": 17,
     "metadata": {},
     "output_type": "execute_result"
    }
   ],
   "source": [
    "f = open('tmp/passwd.txt')\n",
    "data = f.read(4)  # 读4字节\n",
    "data\n",
    "f.readline()  # 读到换行符\\n结束"
   ]
  },
  {
   "cell_type": "code",
   "execution_count": 23,
   "id": "590d7a0a",
   "metadata": {},
   "outputs": [
    {
     "name": "stdout",
     "output_type": "stream",
     "text": [
      "password\n",
      "hello\n",
      "mancy"
     ]
    }
   ],
   "source": [
    "f = open('tmp/passwd.txt')\n",
    "for line in f:\n",
    "    print(line, end='')"
   ]
  },
  {
   "cell_type": "code",
   "execution_count": 27,
   "id": "984c269b",
   "metadata": {},
   "outputs": [
    {
     "name": "stdout",
     "output_type": "stream",
     "text": [
      "<built-in method read of _io.BufferedReader object at 0x00000209F5B9B040>\n"
     ]
    }
   ],
   "source": [
    "f = open('tmp/pic.png', 'rb')\n",
    "f.read(4096)\n",
    "print(f.read)"
   ]
  },
  {
   "cell_type": "code",
   "execution_count": 34,
   "id": "ce8b6def",
   "metadata": {},
   "outputs": [],
   "source": [
    "f = open('tmp/myfile.txt', 'w')  # 'w'打开文件，如果文件不存在则创建\n",
    "f.write('hello world!\\n')\n",
    "f.flush()  # 立即将缓存中的数据同步到磁盘\n",
    "f.writelines(['2nd line.\\n', 'new line.\\n'])\n",
    "f.close()  # 关闭文件的时候，数据保存到磁盘"
   ]
  },
  {
   "cell_type": "code",
   "execution_count": 32,
   "id": "c362cbef",
   "metadata": {},
   "outputs": [
    {
     "name": "stdout",
     "output_type": "stream",
     "text": [
      "password\n",
      "\n"
     ]
    }
   ],
   "source": [
    "with open('tmp/passwd.txt') as f:\n",
    "    print(f.readline())"
   ]
  },
  {
   "cell_type": "code",
   "execution_count": 46,
   "id": "d0e58f62",
   "metadata": {},
   "outputs": [
    {
     "data": {
      "text/plain": [
       "4"
      ]
     },
     "execution_count": 46,
     "metadata": {},
     "output_type": "execute_result"
    }
   ],
   "source": [
    "f = open('tmp/passwd.txt')\n",
    "f.tell()  # 查看文件指针的位置\n",
    "f.read(4)  # 读4字节\n",
    "f.tell()  # 查看文件指针的位置\n",
    "f.seek(0, 1)  # 第一个数字是偏移量，第2位是数字是相对位置。\n",
    "              # 相对位置0表示开头，1表示当前，2表示结尾"
   ]
  },
  {
   "cell_type": "markdown",
   "id": "9eb52019",
   "metadata": {},
   "source": [
    "<h3> 文件拷贝 </h3> "
   ]
  },
  {
   "cell_type": "code",
   "execution_count": 7,
   "id": "c0bda449",
   "metadata": {},
   "outputs": [],
   "source": [
    "# 每次读取4K，读完为止：\n",
    "\n",
    "src_fname = 'tmp/file1.txt'\n",
    "dst_fname = 'tmp/file2.txt'\n",
    "src_fobj = open(src_fname, 'rb')\n",
    "dst_fobj = open(dst_fname, 'wb')\n",
    "\n",
    "while True:\n",
    "    data = src_fobj.read(4096)\n",
    "    if not data:\n",
    "        break\n",
    "    dst_fobj.write(data)\n",
    "src_fobj.close()\n",
    "dst_fobj.close()"
   ]
  },
  {
   "cell_type": "markdown",
   "id": "7fa5c1ef",
   "metadata": {},
   "source": [
    "<h3> ***位置参数(在命令行中执行） </h3>"
   ]
  },
  {
   "cell_type": "code",
   "execution_count": 15,
   "id": "c68c6863",
   "metadata": {},
   "outputs": [
    {
     "data": {
      "text/plain": [
       "'win32'"
      ]
     },
     "execution_count": 15,
     "metadata": {},
     "output_type": "execute_result"
    }
   ],
   "source": [
    "import sys\n",
    "sys.platform"
   ]
  },
  {
   "cell_type": "code",
   "execution_count": 12,
   "id": "db458d23",
   "metadata": {},
   "outputs": [
    {
     "name": "stdout",
     "output_type": "stream",
     "text": [
      "['D:\\\\Anaconda\\\\lib\\\\site-packages\\\\ipykernel_launcher.py', '-f', 'C:\\\\Users\\\\18768\\\\AppData\\\\Roaming\\\\jupyter\\\\runtime\\\\kernel-4c233944-69c3-426d-bc75-63bac118b4f8.json']\n"
     ]
    },
    {
     "ename": "FileNotFoundError",
     "evalue": "[Errno 2] No such file or directory: '-f'",
     "output_type": "error",
     "traceback": [
      "\u001b[1;31m---------------------------------------------------------------------------\u001b[0m",
      "\u001b[1;31mFileNotFoundError\u001b[0m                         Traceback (most recent call last)",
      "\u001b[1;32m<ipython-input-12-ad6b094b3da6>\u001b[0m in \u001b[0;36m<module>\u001b[1;34m\u001b[0m\n\u001b[0;32m     15\u001b[0m     \u001b[0mdst_fobj\u001b[0m\u001b[1;33m.\u001b[0m\u001b[0mclose\u001b[0m\u001b[1;33m(\u001b[0m\u001b[1;33m)\u001b[0m\u001b[1;33m\u001b[0m\u001b[1;33m\u001b[0m\u001b[0m\n\u001b[0;32m     16\u001b[0m \u001b[1;33m\u001b[0m\u001b[0m\n\u001b[1;32m---> 17\u001b[1;33m \u001b[0mcopy\u001b[0m\u001b[1;33m(\u001b[0m\u001b[0msys\u001b[0m\u001b[1;33m.\u001b[0m\u001b[0margv\u001b[0m\u001b[1;33m[\u001b[0m\u001b[1;36m1\u001b[0m\u001b[1;33m]\u001b[0m\u001b[1;33m,\u001b[0m \u001b[0msys\u001b[0m\u001b[1;33m.\u001b[0m\u001b[0margv\u001b[0m\u001b[1;33m[\u001b[0m\u001b[1;36m2\u001b[0m\u001b[1;33m]\u001b[0m\u001b[1;33m)\u001b[0m\u001b[1;33m\u001b[0m\u001b[1;33m\u001b[0m\u001b[0m\n\u001b[0m",
      "\u001b[1;32m<ipython-input-12-ad6b094b3da6>\u001b[0m in \u001b[0;36mcopy\u001b[1;34m(src_fname, dst_fname)\u001b[0m\n\u001b[0;32m      3\u001b[0m \u001b[0mprint\u001b[0m\u001b[1;33m(\u001b[0m\u001b[0msys\u001b[0m\u001b[1;33m.\u001b[0m\u001b[0margv\u001b[0m\u001b[1;33m)\u001b[0m  \u001b[1;31m# sys.argv是sys模块里的argv列表\u001b[0m\u001b[1;33m\u001b[0m\u001b[1;33m\u001b[0m\u001b[0m\n\u001b[0;32m      4\u001b[0m \u001b[1;32mdef\u001b[0m \u001b[0mcopy\u001b[0m\u001b[1;33m(\u001b[0m\u001b[0msrc_fname\u001b[0m\u001b[1;33m,\u001b[0m \u001b[0mdst_fname\u001b[0m\u001b[1;33m)\u001b[0m\u001b[1;33m:\u001b[0m\u001b[1;33m\u001b[0m\u001b[1;33m\u001b[0m\u001b[0m\n\u001b[1;32m----> 5\u001b[1;33m     \u001b[0msrc_fobj\u001b[0m \u001b[1;33m=\u001b[0m \u001b[0mopen\u001b[0m\u001b[1;33m(\u001b[0m\u001b[0msrc_fname\u001b[0m\u001b[1;33m,\u001b[0m \u001b[1;34m'rb'\u001b[0m\u001b[1;33m)\u001b[0m\u001b[1;33m\u001b[0m\u001b[1;33m\u001b[0m\u001b[0m\n\u001b[0m\u001b[0;32m      6\u001b[0m     \u001b[0mdst_fobj\u001b[0m \u001b[1;33m=\u001b[0m \u001b[0mopen\u001b[0m\u001b[1;33m(\u001b[0m\u001b[0mdst_fname\u001b[0m\u001b[1;33m,\u001b[0m \u001b[1;34m'wb'\u001b[0m\u001b[1;33m)\u001b[0m\u001b[1;33m\u001b[0m\u001b[1;33m\u001b[0m\u001b[0m\n\u001b[0;32m      7\u001b[0m \u001b[1;33m\u001b[0m\u001b[0m\n",
      "\u001b[1;31mFileNotFoundError\u001b[0m: [Errno 2] No such file or directory: '-f'"
     ]
    }
   ],
   "source": [
    "# 注意：位置参数中的数字是字符形式的\n",
    "import sys #sys模块包含了与Python解释器和它的环境有关的函数。\n",
    "print(sys.argv)  # sys.argv其中存储的是在命令行调用 Python 脚本时提供的“命令行参数”。\n",
    "def copy(src_fname, dst_fname):\n",
    "    src_fobj = open(src_fname, 'rb')\n",
    "    dst_fobj = open(dst_fname, 'wb')\n",
    "    while True:\n",
    "        data = src_fobj.read(4096)\n",
    "        if not data:\n",
    "            break\n",
    "        dst_fobj.write(data)\n",
    "\n",
    "    src_fobj.close()\n",
    "    dst_fobj.close()\n",
    "\n",
    "copy(sys.argv[1], sys.argv[2])"
   ]
  },
  {
   "cell_type": "markdown",
   "id": "d31a763f",
   "metadata": {},
   "source": [
    "<h2> 33-函数-斐波那契数列 </h2>"
   ]
  },
  {
   "cell_type": "code",
   "execution_count": 47,
   "id": "23f3a84b",
   "metadata": {},
   "outputs": [
    {
     "name": "stdout",
     "output_type": "stream",
     "text": [
      "[0, 1, 1, 2, 3, 5, 8, 13, 21, 34]\n",
      "--------------------------------------------------\n",
      "length: 30\n",
      "[0, 1, 1, 2, 3, 5, 8, 13, 21, 34, 55, 89, 144, 233, 377, 610, 987, 1597, 2584, 4181, 6765, 10946, 17711, 28657, 46368, 75025, 121393, 196418, 317811, 514229]\n"
     ]
    }
   ],
   "source": [
    "\tdef gen_fib(l):\n",
    "\t    fib = [0, 1]\n",
    "\t\n",
    "\t    for i in range(l - len(fib)):\n",
    "\t        fib.append(fib[-1] + fib[-2])\n",
    "\t\n",
    "\t    return fib  # 返回列表，不返回变量fib\n",
    "\t\n",
    "\ta = gen_fib(10)\n",
    "\tprint(a)\n",
    "\tprint('-' * 50)\n",
    "\tn = int(input(\"length: \"))\n",
    "\tprint(gen_fib(n))  # 不会把变量n传入，是把n代表的值赋值给形参"
   ]
  },
  {
   "cell_type": "markdown",
   "id": "9b502b30",
   "metadata": {},
   "source": [
    "<h2> 35-函数-九九乘法表 </h2>"
   ]
  },
  {
   "cell_type": "code",
   "execution_count": 52,
   "id": "b8dffac7",
   "metadata": {},
   "outputs": [
    {
     "name": "stdout",
     "output_type": "stream",
     "text": [
      "1*1=1 \n",
      "1*2=2 2*2=4 \n",
      "1*3=3 2*3=6 3*3=9 \n",
      "1*4=4 2*4=8 3*4=12 4*4=16 \n",
      "1*5=5 2*5=10 3*5=15 4*5=20 5*5=25 \n",
      "1*6=6 2*6=12 3*6=18 4*6=24 5*6=30 6*6=36 \n",
      "1*7=7 2*7=14 3*7=21 4*7=28 5*7=35 6*7=42 7*7=49 \n",
      "1*8=8 2*8=16 3*8=24 4*8=32 5*8=40 6*8=48 7*8=56 8*8=64 \n"
     ]
    }
   ],
   "source": [
    "def mtable(n):\n",
    "    for i in range(1,n+1):\n",
    "        for j in range(1,i+1):\n",
    "            print('%s*%s=%s'%(j,i,i*j),end=' ')\n",
    "        print()\n",
    "mtable(8)"
   ]
  },
  {
   "cell_type": "markdown",
   "id": "7df99421",
   "metadata": {},
   "source": [
    "<h2> ***36-模块基础 </h2>"
   ]
  },
  {
   "cell_type": "code",
   "execution_count": 53,
   "id": "0da8ff12",
   "metadata": {},
   "outputs": [],
   "source": [
    "# 见star.py \n",
    "# cal_star.py"
   ]
  },
  {
   "cell_type": "markdown",
   "id": "a54b2406",
   "metadata": {},
   "source": [
    "<h2> 37-生成密码/验证码 </h2>"
   ]
  },
  {
   "cell_type": "code",
   "execution_count": null,
   "id": "d918519b",
   "metadata": {},
   "outputs": [],
   "source": [
    "# randpass.py"
   ]
  },
  {
   "cell_type": "markdown",
   "id": "21c68d02",
   "metadata": {},
   "source": [
    "<h2> 38-序列对象方法 </h2>"
   ]
  },
  {
   "cell_type": "code",
   "execution_count": 60,
   "id": "232b407f",
   "metadata": {},
   "outputs": [
    {
     "data": {
      "text/plain": [
       "[85, 72, 55, 30, 29, 68, 93, 80, 84, 45]"
      ]
     },
     "execution_count": 60,
     "metadata": {},
     "output_type": "execute_result"
    }
   ],
   "source": [
    "from random import randint\n",
    "\n",
    "alist = list()\n",
    "a=list('hello')\n",
    "list((10,20,30))\n",
    "\n",
    "astr = str()\n",
    "str(10)\n",
    "str(a)\n",
    "\n",
    "atuple = tuple()\n",
    "tuple('hello')\n",
    "num_list = [randint(1,100) for i in range(10)]\n",
    "num_list "
   ]
  },
  {
   "cell_type": "code",
   "execution_count": 65,
   "id": "e8fee966",
   "metadata": {},
   "outputs": [
    {
     "name": "stdout",
     "output_type": "stream",
     "text": [
      "0: 10\n",
      "1: john\n",
      "0: 10\n",
      "1: john\n",
      "90,66,29,69,34,58,75,40,97,96,"
     ]
    },
    {
     "data": {
      "text/plain": [
       "[29, 34, 40, 58, 66, 69, 75, 90, 96, 97]"
      ]
     },
     "execution_count": 65,
     "metadata": {},
     "output_type": "execute_result"
    }
   ],
   "source": [
    "alist = [10, 'john']\n",
    "\n",
    "for ind in range(len(alist)):\n",
    "    print('%s: %s' % (ind, alist[ind]))\n",
    "for item in enumerate(alist):\n",
    "    print('%s: %s'%(item[0],item[1]))\n",
    "\n",
    "atuple = (96, 97, 40, 75, 58, 34, 69, 29, 66, 90)\n",
    "\n",
    "for i in reversed(atuple):\n",
    "    print(i, end=',')\n",
    "sorted(atuple) #排序"
   ]
  },
  {
   "cell_type": "markdown",
   "id": "ba7a69a1",
   "metadata": {},
   "source": [
    "<h2>** 40-字符串方法 </h2>"
   ]
  },
  {
   "cell_type": "code",
   "execution_count": 3,
   "id": "11b26b83",
   "metadata": {},
   "outputs": [
    {
     "name": "stdout",
     "output_type": "stream",
     "text": [
      "hello\n",
      "hello-tar-gz\n"
     ]
    }
   ],
   "source": [
    "py_str = 'hello world!'\n",
    "py_str.capitalize() # 大写首字母\n",
    "py_str.title() # 两个单词都大写\n",
    "py_str.center(50) # 50的地方居中\n",
    "py_str.center(50, '#')\n",
    "py_str.count('l')  # 统计l出现的次数\n",
    "py_str.count('lo')\n",
    "py_str.endswith('!')  # 以!结尾吗？-True\n",
    "py_str.endswith('d!')\n",
    "py_str.startswith('a')  # 以a开头吗？-False\n",
    "py_str.islower()  # 字母都是小写的？其他字符不考虑\n",
    "py_str.isupper()  # 字母都是大写的？其他字符不考虑\n",
    "'Hao123'.isdigit()  # 所有字符都是数字吗？\n",
    "'Hao123'.isalnum()  # 所有字符都是字母数字？\n",
    "m='  hello\\t    '.strip()  # 去除两端空白字符，常用\n",
    "print(m)\n",
    "'  hello\\t    '.lstrip() # 除去左边\n",
    "'  hello\\t    '.rstrip() # 除去右边\n",
    "'how are you?'.split() #空格分隔\n",
    "'hello.tar.gz'.split('.') #.分隔\n",
    "a = '.'.join(['hello', 'tar', 'gz'])\n",
    "b = '-'.join(['hello', 'tar', 'gz']) #字符串\n",
    "print(b)"
   ]
  },
  {
   "cell_type": "code",
   "execution_count": null,
   "id": "8cdf7ac5",
   "metadata": {},
   "outputs": [],
   "source": []
  }
 ],
 "metadata": {
  "kernelspec": {
   "display_name": "Python 3",
   "language": "python",
   "name": "python3"
  },
  "language_info": {
   "codemirror_mode": {
    "name": "ipython",
    "version": 3
   },
   "file_extension": ".py",
   "mimetype": "text/x-python",
   "name": "python",
   "nbconvert_exporter": "python",
   "pygments_lexer": "ipython3",
   "version": "3.8.8"
  }
 },
 "nbformat": 4,
 "nbformat_minor": 5
}
